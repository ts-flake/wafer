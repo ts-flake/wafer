{
 "cells": [
  {
   "cell_type": "markdown",
   "id": "339de769-4509-4fa5-b362-b6ce8939ee47",
   "metadata": {},
   "source": [
    "# Utils\n",
    "> To visualize the dynamics of a NN."
   ]
  },
  {
   "cell_type": "code",
   "execution_count": null,
   "id": "ea9c7ce1-1cd5-4d4e-983c-a405b405a764",
   "metadata": {},
   "outputs": [],
   "source": [
    "#| default_exp recurrent.utils"
   ]
  },
  {
   "cell_type": "code",
   "execution_count": null,
   "id": "dd375190-ef34-4c84-8d98-c8319b089715",
   "metadata": {},
   "outputs": [],
   "source": [
    "#| hide\n",
    "from nbdev.showdoc import *"
   ]
  },
  {
   "cell_type": "code",
   "execution_count": null,
   "id": "e39429b4-7cae-469a-8bce-cfd757cfbc57",
   "metadata": {},
   "outputs": [],
   "source": [
    "#| export\n",
    "from wafer.basics import *"
   ]
  },
  {
   "cell_type": "markdown",
   "id": "d61b5617-dce0-4b73-8d77-b1302cddf04a",
   "metadata": {},
   "source": [
    "## Data"
   ]
  },
  {
   "cell_type": "code",
   "execution_count": null,
   "id": "00670301-a03f-4b15-888d-2f8fdc22f6ce",
   "metadata": {},
   "outputs": [],
   "source": [
    "#| export\n",
    "def mk_sequential_MNIST_dls(sz: list[int]=[None, None], # Sizes of train and test set, if `None` then returns all\n",
    "                            bs: list[int]=[128, 128],   # Batch sizes\n",
    "                            permute: bool=False,        # Apply a fixed permutation to input sequences\n",
    "                            device=None):\n",
    "    mnist = load_dataset(\"mnist\", device=device, trust_remote_code=True)\n",
    "    train = Dataset.from_dict(mnist['train'][:sz[0]]).with_format('torch') if sz[0] is not None else mnist['train'].with_format('torch')\n",
    "    test  = Dataset.from_dict(mnist['test'][:sz[1]]).with_format('torch') if sz[1] is not None else mnist['test'].with_format('torch')\n",
    "    if permute:\n",
    "        perm = np.random.choice(784, 784, False)\n",
    "        get_xy = lambda o: ((o['image'].float().reshape(o['image'].shape[0], -1, 1))[:, perm], o['label'])\n",
    "    else:\n",
    "        get_xy = lambda o: (o['image'].float().reshape(o['image'].shape[0], -1, 1), o['label'])\n",
    "    return mk_dls_from_ds([train, test], get_xy, bs=bs)"
   ]
  },
  {
   "cell_type": "markdown",
   "id": "51c9931a-57a6-4850-a672-bef994bc7000",
   "metadata": {},
   "source": [
    "## Plot"
   ]
  },
  {
   "cell_type": "code",
   "execution_count": null,
   "id": "64736a9f-4a20-4264-b1fb-94d7b04e6d0e",
   "metadata": {},
   "outputs": [],
   "source": [
    "#| export\n",
    "def eigen_show(A: np.ndarray|list[list] = [[1,1],[1,1]], figsize=(3,3)):\n",
    "    \"Animate (2D) linear transformation of a matrix.\"\n",
    "    assert np.ndim(A) == 2, \"Matrix is not 2-by-2.\"\n",
    "    fig,ax = plt.subplots(figsize=figsize)\n",
    "    xs = np.vstack([np.cos((ts:=np.linspace(0,2*np.pi,100))),np.sin(ts)])\n",
    "    ys = A@xs\n",
    "    l1, = ax.plot([], [], 'C9-', label='x')\n",
    "    l2, = ax.plot([], [], 'C3-', label='Ax')\n",
    "    p1, = ax.plot([], [], 'C9x')\n",
    "    p2, = ax.plot([], [], 'C3x')\n",
    "    lb,ub = np.min(ys) - .8, np.max(ys) + .8\n",
    "    ax.set_xlim(lb, ub); ax.set_ylim(lb, ub)\n",
    "    ax.set_xlabel(r'$x_1$'); ax.set_ylabel(r'$x_2$')\n",
    "    ax.axis('equal'); ax.legend(loc=2, fontsize=9)\n",
    "    def _update(n):\n",
    "        l1.set_data(xs[0][:n], xs[1][:n])\n",
    "        l2.set_data(ys[0][:n], ys[1][:n])\n",
    "        p1.set_data([xs[0][n]], [xs[1][n]])\n",
    "        p2.set_data([ys[0][n]], [ys[1][n]])\n",
    "        return (l1,l2)\n",
    "    anim = animation.FuncAnimation(fig, _update, frames=len(xs[0]), interval=50, blit=True, repeat=False)\n",
    "    fig.tight_layout(); display(HTML(anim.to_html5_video())); plt.close(fig)"
   ]
  },
  {
   "cell_type": "code",
   "execution_count": null,
   "id": "8be6b8da-e8d4-48fb-954a-d8fdfad7cbd1",
   "metadata": {},
   "outputs": [],
   "source": [
    "#| export\n",
    "def dynshow(f: callable, # Dynamical system (x_new, dx) = f(x)\n",
    "            ax=None,\n",
    "            n_pts: int=3,\n",
    "            n_steps: int=20,\n",
    "            center: tuple[float]=(0.,0.),\n",
    "            lims: tuple[float]=(-1.,1.,-1.,1.), # x,y limits\n",
    "            showfield: bool=False, # To draw the vector field\n",
    "            figsize: tuple[float]=(3,3),\n",
    "            title: str=\"\"):\n",
    "    \"Show the (2D) trajectories evolved according to a dynamical system `f` for `n_pts` random initial points.\"\n",
    "    if ax is None: fig,ax = plt.subplots(figsize=figsize)\n",
    "    _f = lambda x: f(x)[0]\n",
    "    # Random initial points\n",
    "    pts = center + (np.random.rand(n_pts, 2) * [lims[1] - lims[0], lims[3]- lims[2]] + [lims[0], lims[2]])\n",
    "    # Draw trajectories\n",
    "    colors = plt.get_cmap('rainbow')(np.linspace(0,1,n_pts))\n",
    "    alps = np.logspace(-1, 0, n_steps)\n",
    "    ax.set_xlim(center[0] + lims[0], center[0] + lims[1])\n",
    "    ax.set_ylim(center[1] + lims[2], center[1] + lims[3])\n",
    "    ax.set_title(title)\n",
    "    for i,p in enumerate(pts): ax.plot(*p, '*', c=colors[i], ms=8, alpha=0.7)  # initial pts\n",
    "    for t in range(n_steps):\n",
    "        for i,p in enumerate(pts):\n",
    "            pts[i] = _f(pts[i])\n",
    "            ax.plot(*pts[i], '.', c=colors[i], ms=8, alpha=alps[t])\n",
    "    # Draw vector field\n",
    "    if showfield:\n",
    "        _f = lambda x: f(x)[1]\n",
    "        xs,ys = np.meshgrid(np.linspace(center[0] + lims[0], center[0] + lims[1], 15),\n",
    "                            np.linspace(center[1] + lims[2], center[1] + lims[3], 15))\n",
    "        pts = np.vstack([xs.reshape(-1), ys.reshape(-1)])\n",
    "        vecs = np.apply_along_axis(_f, 0, pts)\n",
    "        ax.quiver(*pts, *vecs, color='dimgrey')"
   ]
  },
  {
   "cell_type": "code",
   "execution_count": null,
   "id": "b96847e4-e43e-49f9-b913-d6383978772a",
   "metadata": {},
   "outputs": [],
   "source": [
    "#| export\n",
    "def stream_plot(f: callable, # Dynamical system (x_new, dx) = f(x)\n",
    "                ax=None,\n",
    "                center: tuple[float]=(0.,0.),\n",
    "                lims: tuple[float]=(-1.,1.,-1.,1.), # x,y limits\n",
    "                cmap: str='inferno',\n",
    "                figsize: tuple[float]=(3,3),\n",
    "                title: str=\"\"):\n",
    "    \"Show the (2D) streamlines evolved according to a dynamical system `f`.\"\n",
    "    if ax is None: fig,ax = plt.subplots(figsize=figsize)\n",
    "    ax.set_xlim(center[0] + lims[0], center[0] + lims[1])\n",
    "    ax.set_ylim(center[1] + lims[2], center[1] + lims[3])\n",
    "    ax.set_title(title)\n",
    "    _f = lambda x: f(x)[1]\n",
    "    xs,ys = np.meshgrid(np.linspace(center[0] + lims[0], center[0] + lims[1], 20),\n",
    "                        np.linspace(center[1] + lims[2], center[1] + lims[3], 20))\n",
    "    pts = np.vstack([xs.reshape(-1), ys.reshape(-1)])\n",
    "    vecs = np.apply_along_axis(_f, 0, pts)\n",
    "    ax.streamplot(*[p.reshape((20,20)) for p in pts], *[v.reshape((20,20)) for v in vecs],\n",
    "                  color=np.linalg.norm(vecs, axis=0).reshape((20,20)), cmap=cmap, linewidth=.8, arrowsize=.8, arrowstyle='->')"
   ]
  },
  {
   "cell_type": "code",
   "execution_count": null,
   "id": "8a4a0ed3-7853-4c9a-8678-ea8ca1c783a3",
   "metadata": {},
   "outputs": [],
   "source": []
  },
  {
   "cell_type": "code",
   "execution_count": null,
   "id": "f6bc85eb-ec94-47b7-beb6-e459bc806f7d",
   "metadata": {},
   "outputs": [],
   "source": []
  },
  {
   "cell_type": "code",
   "execution_count": null,
   "id": "94e43ca4-8793-4ac6-aa74-df756eac5b19",
   "metadata": {},
   "outputs": [],
   "source": [
    "#| hide\n",
    "import nbdev; nbdev.nbdev_export()"
   ]
  },
  {
   "cell_type": "code",
   "execution_count": null,
   "id": "076a4a1f-5590-4e64-8812-170da7239a89",
   "metadata": {},
   "outputs": [],
   "source": []
  }
 ],
 "metadata": {
  "kernelspec": {
   "display_name": "python3",
   "language": "python",
   "name": "python3"
  }
 },
 "nbformat": 4,
 "nbformat_minor": 5
}
