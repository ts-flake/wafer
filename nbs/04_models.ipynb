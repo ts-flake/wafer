{
 "cells": [
  {
   "cell_type": "markdown",
   "id": "1f860e55-e124-47b8-a681-3d992cc53cff",
   "metadata": {},
   "source": [
    "# Models\n",
    "> Ad hoc collection of models."
   ]
  },
  {
   "cell_type": "code",
   "execution_count": null,
   "id": "b1bd0976-185e-4466-b771-7f0d1d7b573d",
   "metadata": {},
   "outputs": [],
   "source": [
    "#| default_exp models"
   ]
  },
  {
   "cell_type": "code",
   "execution_count": null,
   "id": "602bac09-b12d-4bc6-bb41-71332a2794be",
   "metadata": {},
   "outputs": [],
   "source": [
    "#| hide\n",
    "from nbdev.showdoc import *"
   ]
  },
  {
   "cell_type": "code",
   "execution_count": null,
   "id": "23fce64b-38d7-43c0-9bb1-19cb1f3903cd",
   "metadata": {},
   "outputs": [],
   "source": [
    "#| export\n",
    "from wafer.basics import *"
   ]
  },
  {
   "cell_type": "markdown",
   "id": "c896c74a-db71-462b-bb86-d9b1af0170be",
   "metadata": {},
   "source": [
    "## Input convex"
   ]
  },
  {
   "cell_type": "code",
   "execution_count": null,
   "id": "2c990189-0df1-4c9e-81ec-d4e4a5158041",
   "metadata": {},
   "outputs": [],
   "source": [
    "#| export\n",
    "from wafer.init import default_init, lambda_init"
   ]
  },
  {
   "cell_type": "code",
   "execution_count": null,
   "id": "80a00c73-cbdb-4833-a963-de8dd8a3e868",
   "metadata": {},
   "outputs": [],
   "source": [
    "#| export\n",
    "class FICNN(nn.Module):\n",
    "    \"Fully input-convex NN. Refer to [ICNN](https://arxiv.org/abs/1609.07152).\"\n",
    "    def __init__(self, ni: int,                        # input size\n",
    "                 nh: Union[int, list[int]],            # hidden size\n",
    "                 no: int,                              # output size\n",
    "                 num_layer: int=2,                     # number of layers (include the output layer), if `nh` is a list, then the `num_layer = len(nh) + 1`\n",
    "                 actn: Union[str, nn.Module]='relu',   # hidden activation\n",
    "                 out_actn: Union[str, nn.Module]=None, # output activation\n",
    "                 init_gain: float=1.                   # weight initialization gain\n",
    "                ):\n",
    "        super().__init__()\n",
    "        nhs = [nh] * (num_layer - 1) if isinstance(nh, int) else nh\n",
    "        self.w_y = nn.ModuleList([nn.Linear(ni, nh) for nh in nhs + [no]])\n",
    "        self.w_z = nn.ModuleList([nn.Linear(i, j, bias=False) for i,j in zip(nhs, nhs[1:] + [no])])\n",
    "        self.actn = get_actn(actn, nn.ReLU())\n",
    "        self.out_actn = get_actn(out_actn)\n",
    "\n",
    "        # Initialize\n",
    "        lambda_init(self, lambda w,b: (nn.init.xavier_normal_(w, init_gain), nn.init.zeros_(b)))\n",
    "        self.weight_constraint()\n",
    "    \n",
    "    def weight_constraint(self):\n",
    "        \"Apply nonnegative weight constriant.\"\n",
    "        with torch.no_grad():\n",
    "            for n,p in self.w_z.named_parameters():\n",
    "                if 'weight' in n:\n",
    "                    p.clamp_min_(0)\n",
    "    \n",
    "    def forward(self, x):\n",
    "        z = self.w_y[0](x)\n",
    "        if len(self.w_z) == 0: return self.out_actn(z)\n",
    "        for wz,wy in zip(self.w_z[:-1], self.w_y[1:-1]):\n",
    "            z = self.actn(wz(z) + wy(x))\n",
    "        z = self.out_actn(self.w_z[-1](z) + self.w_y[-1](x))\n",
    "        return z"
   ]
  },
  {
   "cell_type": "code",
   "execution_count": null,
   "id": "ed5118bc-ee83-4246-b6c7-bdd5a89d33a2",
   "metadata": {},
   "outputs": [],
   "source": []
  },
  {
   "cell_type": "code",
   "execution_count": null,
   "id": "728d1410-bd46-4f99-9014-a682c3afd6d1",
   "metadata": {},
   "outputs": [],
   "source": []
  },
  {
   "cell_type": "code",
   "execution_count": null,
   "id": "0bd9b96c-7a2b-4b4a-8570-50a8701b97b8",
   "metadata": {},
   "outputs": [],
   "source": [
    "#| hide\n",
    "import nbdev; nbdev.nbdev_export()"
   ]
  },
  {
   "cell_type": "code",
   "execution_count": null,
   "id": "ec386e97-dfbc-4d36-aca2-57a9ec1c62ca",
   "metadata": {},
   "outputs": [],
   "source": []
  }
 ],
 "metadata": {
  "kernelspec": {
   "display_name": "python3",
   "language": "python",
   "name": "python3"
  }
 },
 "nbformat": 4,
 "nbformat_minor": 5
}
