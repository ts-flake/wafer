{
 "cells": [
  {
   "cell_type": "markdown",
   "id": "f7800276-7490-4094-9cfe-9027ea3e3811",
   "metadata": {},
   "source": [
    "# Progress and logging\n",
    "> Callbacks to track progress of training or log results."
   ]
  },
  {
   "cell_type": "code",
   "execution_count": null,
   "id": "a1158a2d-9f8a-42cc-a834-5a76136070fc",
   "metadata": {},
   "outputs": [],
   "source": [
    "#| default_exp callback.progress"
   ]
  },
  {
   "cell_type": "code",
   "execution_count": null,
   "id": "66908407-3ca8-4a88-861c-6ff94a2534ed",
   "metadata": {},
   "outputs": [],
   "source": [
    "#| hide\n",
    "from nbdev.showdoc import *"
   ]
  },
  {
   "cell_type": "code",
   "execution_count": null,
   "id": "ba59eda8-9cd9-4d99-a968-0d5bb54b1d92",
   "metadata": {},
   "outputs": [],
   "source": [
    "#| export\n",
    "from wafer.basics import *"
   ]
  },
  {
   "cell_type": "code",
   "execution_count": null,
   "id": "31a120ca-bc7e-44db-aeca-99bf1cdc1752",
   "metadata": {},
   "outputs": [],
   "source": [
    "from wafer.init import *"
   ]
  },
  {
   "cell_type": "markdown",
   "id": "4d00c815-4a43-4a48-8dc6-a69deadab8a3",
   "metadata": {},
   "source": [
    "For demo, consider the image classification task on the MNIST dataset."
   ]
  },
  {
   "cell_type": "code",
   "execution_count": null,
   "id": "43a3bc3b-86a5-4a72-8313-5a200f3bb8ae",
   "metadata": {},
   "outputs": [],
   "source": [
    "dls = mk_dls_from_hub('mnist', get_xy=lambda o: (o['image'].unsqueeze(1).float(), o['label']), sz=[500, 500])"
   ]
  },
  {
   "cell_type": "code",
   "execution_count": null,
   "id": "0ef2a8ab-6e47-463b-92a7-f6120d041fc4",
   "metadata": {},
   "outputs": [],
   "source": [
    "def conv(ni, nf, ks=3, actn=True):\n",
    "    res = nn.Conv2d(ni, nf, stride=2, kernel_size=ks, padding=ks//2)\n",
    "    return nn.Sequential(res, nn.ReLU()) if actn else res\n",
    "def mk_tst_model():\n",
    "    return nn.Sequential(\n",
    "        conv(1, 8, ks=5),        #14x14\n",
    "        conv(8, 16),             #7x7\n",
    "        conv(16, 32),            #4x4\n",
    "        conv(32, 64),            #2x2\n",
    "        nn.Flatten(),\n",
    "        nn.Linear(64*4, 10))"
   ]
  },
  {
   "cell_type": "markdown",
   "id": "ff7dc0a7-ccd1-4bdd-b8b4-edbdda00ed57",
   "metadata": {},
   "source": [
    "## Gradient flow"
   ]
  },
  {
   "cell_type": "code",
   "execution_count": null,
   "id": "ac173155-501b-470b-aefb-485cd9745c5c",
   "metadata": {},
   "outputs": [],
   "source": [
    "#| export\n",
    "class GradFlowCB(Callback):\n",
    "    \"A `Callback` that plots the mean and maximum magnitude of gradient in each layer for `every` iterations.\"\n",
    "    order = 65\n",
    "    \n",
    "    def __init__(self, every: int=10, showbias: bool=False, figsize: tuple=(4,3)):\n",
    "        self.every,self.showbias,self.figsize = every,showbias,figsize\n",
    "\n",
    "    def before_fit(self):\n",
    "        self.graph_out = None\n",
    "        self.names,self.params = [],[]\n",
    "        for n,p in self.learner.model.named_parameters():\n",
    "            if p.requires_grad and ('bias' not in n or self.showbias):\n",
    "                self.names.append(n)\n",
    "                self.params.append(p)  # references\n",
    "        \n",
    "        if self.showbias: self.b_msk = np.array(['bias' in n for n in self.names])\n",
    "        margin = 0.05\n",
    "        self.xs = np.linspace(0, 1, len(self.names))\n",
    "        self.graph_fig, self.graph_ax = plt.subplots(figsize=self.figsize)\n",
    "        self.graph_ax.set_xlim(self.xs[0]-margin, self.xs[-1]+margin)\n",
    "        self.graph_ax.set_xticks(self.xs, self.names, rotation='vertical')\n",
    "        self.graph_ax.set_xlabel('layer')\n",
    "        self.graph_ax.set_ylabel('|gradient|')\n",
    "        self.graph_ax.set_title('Gradient flow')\n",
    "\n",
    "    def before_epoch(self):\n",
    "        if self.graph_out is None: self.graph_out = display(self.graph_ax.figure, display_id=True)\n",
    "    \n",
    "    def before_step(self):\n",
    "        if self.every is not None and self.learner.n_iters % self.every == 0:\n",
    "            self._clear_ax_data()\n",
    "            self._update_graph()\n",
    "    \n",
    "    def after_fit(self):\n",
    "        plt.close(self.graph_fig)\n",
    "        \n",
    "    def _clear_ax_data(self):\n",
    "        for o in self.graph_ax.lines + self.graph_ax.collections: o.remove()\n",
    "    \n",
    "    def _update_graph(self):\n",
    "        stats = []\n",
    "        for p in self.params:\n",
    "            stats.append([p.grad.abs().mean().item(), p.grad.abs().max().item()])\n",
    "        stats = np.array(stats)\n",
    "        xs,ax = self.xs,self.graph_ax\n",
    "        if self.showbias:\n",
    "            b_msk = self.b_msk\n",
    "            ax.plot(xs[~b_msk], stats[~b_msk,0], 'd-', c='C1', label='weight_mean')\n",
    "            ax.plot(xs[~b_msk], stats[~b_msk,1], '--', c='C1', label='weight_max')\n",
    "            ax.fill_between(xs[~b_msk], stats[~b_msk,0], stats[~b_msk,1], color='C1', alpha=0.3)\n",
    "            ax.plot(xs[b_msk], stats[b_msk,0], 'd-', c='C9', label='bias_mean')\n",
    "            ax.plot(xs[b_msk], stats[b_msk,1], '--', c='C9', label='bias_max')\n",
    "            ax.fill_between(xs[b_msk], stats[b_msk,0], stats[b_msk,1], color='C9', alpha=0.3)\n",
    "        else:\n",
    "            ax.plot(xs, stats[:,0], 'd-', c='C1', label='weight_mean')\n",
    "            ax.plot(xs, stats[:,1], '--', c='C1', label='weight_max')\n",
    "            ax.fill_between(xs, stats[:,0], stats[:,1], color='C1', alpha=0.3)\n",
    "        # margin = 0.05\n",
    "        # ax.set_ylim(stats.min()*(1-margin), stats.max()*(1+margin))\n",
    "        ax.legend(loc=1, prop={'size':9})\n",
    "        self.graph_out.update(ax.figure)"
   ]
  },
  {
   "cell_type": "code",
   "execution_count": null,
   "id": "b02ff197-51e7-43e5-abcb-02c4df2a77c8",
   "metadata": {},
   "outputs": [],
   "source": [
    "from torcheval.metrics import MulticlassAccuracy"
   ]
  },
  {
   "cell_type": "code",
   "execution_count": null,
   "id": "d48004d1-9d3a-4269-9ee5-0d4febd2458a",
   "metadata": {},
   "outputs": [
    {
     "name": "stdout",
     "output_type": "stream",
     "text": [
      "Conv2d(1, 8, kernel_size=(5, 5), stride=(2, 2), padding=(2, 2))                 | Xavier_normal, gain=1.\n",
      "Conv2d(8, 16, kernel_size=(3, 3), stride=(2, 2), padding=(1, 1))                | He_normal, negative_slope=0.0\n",
      "Conv2d(16, 32, kernel_size=(3, 3), stride=(2, 2), padding=(1, 1))               | He_normal, negative_slope=0.0\n",
      "Conv2d(32, 64, kernel_size=(3, 3), stride=(2, 2), padding=(1, 1))               | He_normal, negative_slope=0.0\n",
      "Linear(in_features=256, out_features=10, bias=True)                             | He_normal, negative_slope=0.0\n"
     ]
    }
   ],
   "source": [
    "tst_model = mk_tst_model()\n",
    "default_init(tst_model, verbose=True)"
   ]
  },
  {
   "cell_type": "code",
   "execution_count": null,
   "id": "fa915a54-c425-46ef-a9fd-3ba2b446382a",
   "metadata": {},
   "outputs": [],
   "source": [
    "opt = optim.SGD(tst_model.parameters(), 1e-3)\n",
    "crit = nn.CrossEntropyLoss()\n",
    "acc = MetricCB([MulticlassAccuracy(num_classes=10)], ['acc'])\n",
    "\n",
    "learn = Learner(tst_model, dls, opt=opt, loss_func=crit, cbs=[acc, GradFlowCB(showbias=True)])"
   ]
  },
  {
   "cell_type": "code",
   "execution_count": null,
   "id": "abf96d4f-dbd3-484a-b622-7037bd252733",
   "metadata": {},
   "outputs": [
    {
     "data": {
      "application/vnd.jupyter.widget-view+json": {
       "model_id": "fcbce5e4a39a4135acd047c012cdfa10",
       "version_major": 2,
       "version_minor": 0
      },
      "text/plain": [
       "Epochs:   0%|          | 0/5 [00:00<?, ?it/s]"
      ]
     },
     "metadata": {},
     "output_type": "display_data"
    },
    {
     "data": {
      "text/html": [
       "<div>\n",
       "<style scoped>\n",
       "    .dataframe tbody tr th:only-of-type {\n",
       "        vertical-align: middle;\n",
       "    }\n",
       "\n",
       "    .dataframe tbody tr th {\n",
       "        vertical-align: top;\n",
       "    }\n",
       "\n",
       "    .dataframe thead th {\n",
       "        text-align: right;\n",
       "    }\n",
       "</style>\n",
       "<table border=\"1\" class=\"dataframe\">\n",
       "  <thead>\n",
       "    <tr style=\"text-align: right;\">\n",
       "      <th></th>\n",
       "      <th>train_loss</th>\n",
       "      <th>test_loss</th>\n",
       "      <th>acc</th>\n",
       "    </tr>\n",
       "  </thead>\n",
       "  <tbody>\n",
       "    <tr>\n",
       "      <th>0</th>\n",
       "      <td>15.028039</td>\n",
       "      <td>6.586410</td>\n",
       "      <td>0.182</td>\n",
       "    </tr>\n",
       "    <tr>\n",
       "      <th>1</th>\n",
       "      <td>4.544245</td>\n",
       "      <td>4.355149</td>\n",
       "      <td>0.176</td>\n",
       "    </tr>\n",
       "    <tr>\n",
       "      <th>2</th>\n",
       "      <td>3.336907</td>\n",
       "      <td>3.708953</td>\n",
       "      <td>0.204</td>\n",
       "    </tr>\n",
       "    <tr>\n",
       "      <th>3</th>\n",
       "      <td>2.783426</td>\n",
       "      <td>3.209350</td>\n",
       "      <td>0.202</td>\n",
       "    </tr>\n",
       "    <tr>\n",
       "      <th>4</th>\n",
       "      <td>2.457581</td>\n",
       "      <td>2.958636</td>\n",
       "      <td>0.214</td>\n",
       "    </tr>\n",
       "  </tbody>\n",
       "</table>\n",
       "</div>"
      ],
      "text/plain": [
       "   train_loss  test_loss    acc\n",
       "0   15.028039   6.586410  0.182\n",
       "1    4.544245   4.355149  0.176\n",
       "2    3.336907   3.708953  0.204\n",
       "3    2.783426   3.209350  0.202\n",
       "4    2.457581   2.958636  0.214"
      ]
     },
     "metadata": {},
     "output_type": "display_data"
    },
    {
     "data": {
      "image/png": "[encoded data removed]",
      "text/plain": [
       "<Figure size 400x300 with 1 Axes>"
      ]
     },
     "metadata": {},
     "output_type": "display_data"
    },
    {
     "data": {
      "application/vnd.jupyter.widget-view+json": {
       "model_id": "",
       "version_major": 2,
       "version_minor": 0
      },
      "text/plain": [
       "Train:   0%|          | 0/8 [00:00<?, ?it/s]"
      ]
     },
     "metadata": {},
     "output_type": "display_data"
    },
    {
     "data": {
      "application/vnd.jupyter.widget-view+json": {
       "model_id": "",
       "version_major": 2,
       "version_minor": 0
      },
      "text/plain": [
       "Test:   0%|          | 0/8 [00:00<?, ?it/s]"
      ]
     },
     "metadata": {},
     "output_type": "display_data"
    },
    {
     "data": {
      "application/vnd.jupyter.widget-view+json": {
       "model_id": "",
       "version_major": 2,
       "version_minor": 0
      },
      "text/plain": [
       "Train:   0%|          | 0/8 [00:00<?, ?it/s]"
      ]
     },
     "metadata": {},
     "output_type": "display_data"
    },
    {
     "data": {
      "application/vnd.jupyter.widget-view+json": {
       "model_id": "",
       "version_major": 2,
       "version_minor": 0
      },
      "text/plain": [
       "Test:   0%|          | 0/8 [00:00<?, ?it/s]"
      ]
     },
     "metadata": {},
     "output_type": "display_data"
    },
    {
     "data": {
      "application/vnd.jupyter.widget-view+json": {
       "model_id": "",
       "version_major": 2,
       "version_minor": 0
      },
      "text/plain": [
       "Train:   0%|          | 0/8 [00:00<?, ?it/s]"
      ]
     },
     "metadata": {},
     "output_type": "display_data"
    },
    {
     "data": {
      "application/vnd.jupyter.widget-view+json": {
       "model_id": "",
       "version_major": 2,
       "version_minor": 0
      },
      "text/plain": [
       "Test:   0%|          | 0/8 [00:00<?, ?it/s]"
      ]
     },
     "metadata": {},
     "output_type": "display_data"
    },
    {
     "data": {
      "application/vnd.jupyter.widget-view+json": {
       "model_id": "",
       "version_major": 2,
       "version_minor": 0
      },
      "text/plain": [
       "Train:   0%|          | 0/8 [00:00<?, ?it/s]"
      ]
     },
     "metadata": {},
     "output_type": "display_data"
    },
    {
     "data": {
      "application/vnd.jupyter.widget-view+json": {
       "model_id": "",
       "version_major": 2,
       "version_minor": 0
      },
      "text/plain": [
       "Test:   0%|          | 0/8 [00:00<?, ?it/s]"
      ]
     },
     "metadata": {},
     "output_type": "display_data"
    },
    {
     "data": {
      "application/vnd.jupyter.widget-view+json": {
       "model_id": "",
       "version_major": 2,
       "version_minor": 0
      },
      "text/plain": [
       "Train:   0%|          | 0/8 [00:00<?, ?it/s]"
      ]
     },
     "metadata": {},
     "output_type": "display_data"
    },
    {
     "data": {
      "application/vnd.jupyter.widget-view+json": {
       "model_id": "",
       "version_major": 2,
       "version_minor": 0
      },
      "text/plain": [
       "Test:   0%|          | 0/8 [00:00<?, ?it/s]"
      ]
     },
     "metadata": {},
     "output_type": "display_data"
    }
   ],
   "source": [
    "learn.fit(5)"
   ]
  },
  {
   "cell_type": "markdown",
   "id": "e48d1825-e556-4256-8551-e3200a512fc5",
   "metadata": {},
   "source": [
    "Two utility functions `plot_grad_flow` and `plot_grad_flow_box` are also available. To be used without a `Learner`."
   ]
  },
  {
   "cell_type": "code",
   "execution_count": null,
   "id": "07df4449-698b-4427-ad92-df49b2fdb31e",
   "metadata": {},
   "outputs": [],
   "source": [
    "#| export\n",
    "def plot_grad_flow(m: nn.Module, ax: plt.Axes=None, showbias: bool=False, figsize: tuple=(4,3)):\n",
    "    \"Gradient flow plot. Showing mean and maximum magnitude of gradient in each layer. Use just after `loss.backward()`.\"\n",
    "    names = []\n",
    "    stats = []\n",
    "    for n,p in m.named_parameters():\n",
    "        if p.requires_grad and ('bias' not in n or showbias):\n",
    "            names.append(n)\n",
    "            stats.append([p.grad.abs().mean().item(), p.grad.abs().max().item()])\n",
    "    stats = np.array(stats)\n",
    "    if ax is None: fig, ax = plt.subplots(figsize=figsize)\n",
    "    xs = np.linspace(0, 1, len(names))\n",
    "    if showbias:\n",
    "        b_msk = np.array(['bias' in n for n in names])\n",
    "        ax.plot(xs[~b_msk], stats[~b_msk,0], 'd-', c='C1', label='weight_mean')\n",
    "        ax.plot(xs[~b_msk], stats[~b_msk,1], '--', c='C1', label='weight_max')\n",
    "        ax.fill_between(xs[~b_msk], stats[~b_msk,0], stats[~b_msk,1], color='C1', alpha=0.3)\n",
    "        ax.plot(xs[b_msk], stats[b_msk,0], 'd-', c='C9', label='bias_mean')\n",
    "        ax.plot(xs[b_msk], stats[b_msk,1], '--', c='C9', label='bias_max')\n",
    "        ax.fill_between(xs[b_msk], stats[b_msk,0], stats[b_msk,1], color='C9', alpha=0.3)\n",
    "    else:\n",
    "        ax.plot(xs, stats[:,0], 'd-', c='C1', label='weight_mean')\n",
    "        ax.plot(xs, stats[:,1], '--', c='C1', label='weight_max')\n",
    "        ax.fill_between(xs, stats[:,0], stats[:,1], color='C1', alpha=0.3)\n",
    "    margin = 0.05\n",
    "    ax.set_xlim(xs[0]-margin, xs[-1]+margin)\n",
    "    ax.set_ylim(stats.min()*(1-margin), stats.max()*(1+margin))\n",
    "    ax.set_xticks(xs, names, rotation='vertical')\n",
    "    ax.set_xlabel('layer')\n",
    "    ax.set_ylabel('|gradient|')\n",
    "    ax.set_title('Gradient flow')\n",
    "    ax.legend(loc=1, prop={'size':9})"
   ]
  },
  {
   "cell_type": "code",
   "execution_count": null,
   "id": "27dc1958-fb9e-4403-867b-ae22df6ef793",
   "metadata": {},
   "outputs": [],
   "source": [
    "#| export\n",
    "def plot_grad_flow_box(m: nn.Module, ax: plt.Axes=None, showbias: bool=False, figsize: tuple=(4,3)):\n",
    "    \"Gradient flow plot. Boxplot. Use just after `loss.backward()`.\"\n",
    "    names = []\n",
    "    grads = []\n",
    "    for n,p in m.named_parameters():\n",
    "        if p.requires_grad and ('bias' not in n or showbias):\n",
    "            names.append(n)\n",
    "            grads.append(p.grad.detach().cpu().ravel())\n",
    "    if ax is None: fig, ax = plt.subplots(figsize=figsize)\n",
    "    xs = np.linspace(0, 1, len(names))\n",
    "    style_dict = lambda c: {'widths': .08, 'showmeans': True, 'showfliers': False, 'patch_artist': True,\n",
    "                            'meanprops': dict(marker='d', markeredgecolor=c[1],markerfacecolor=c[1]),\n",
    "                            'medianprops': dict(color=c[1], linewidth=1.),\n",
    "                            'boxprops': dict(facecolor=c[0], edgecolor=c[1], linewidth=1.),\n",
    "                            'whiskerprops': dict(color=c[1], linewidth=1.),\n",
    "                            'capprops': dict(color=c[1], linewidth=1.)}\n",
    "    if showbias:\n",
    "        b_msk = np.array(['bias' in n for n in names])\n",
    "        ax.boxplot([g for i,g in enumerate(grads) if not b_msk[i]], positions=xs[~b_msk], **style_dict(['moccasin','C1']))\n",
    "        ax.boxplot([g for i,g in enumerate(grads) if b_msk[i]], positions=xs[b_msk], **style_dict(['paleturquoise','C9']))\n",
    "    else:\n",
    "        ax.boxplot(grads, positions=xs, **style_dict(['moccasin','C1']))\n",
    "    margin = 0.1\n",
    "    ax.set_xlim(xs[0]-margin, xs[-1]+margin)\n",
    "    ax.set_xticks(xs, names, rotation='vertical')\n",
    "    ax.set_xlabel('layer')\n",
    "    ax.set_ylabel('gradient')\n",
    "    ax.set_title('Gradient flow')"
   ]
  },
  {
   "cell_type": "markdown",
   "id": "a6e17a6d-d3af-4a35-8839-6f429560fb6b",
   "metadata": {},
   "source": [
    "## Stats"
   ]
  },
  {
   "cell_type": "code",
   "execution_count": null,
   "id": "c7153cc8-9bf6-484c-a8a9-e2fbeb898838",
   "metadata": {},
   "outputs": [],
   "source": [
    "#| export\n",
    "class StatsCB(Callback):\n",
    "    \"A `Callback` that records mean, std, near_zero and _gradident_ of each layer for `every` iterations.\"\n",
    "    order=-20\n",
    "    \n",
    "    def __init__(self, every: int=10, grad: bool=False):\n",
    "        self.every,self.grad = every,grad\n",
    "    \n",
    "    def before_fit(self):\n",
    "        \"Add all submodules.\"\n",
    "        self.names,self.layers = [],[]\n",
    "        for n,m in self.learner.model.named_modules():\n",
    "            if not has_children(m) and has_params(m):\n",
    "                self.names.append(f\"{n}.{type(m).__name__}\")\n",
    "                self.layers.append(m)\n",
    "        self.stats = {'act': [], 'grad': [], 'iter': []}\n",
    "\n",
    "    def before_batch(self):\n",
    "        if self.every is None: return\n",
    "        if self.learner.training and self.learner.n_iters % self.every == 0:\n",
    "            self._register_hooks()\n",
    "            self.stats['iter'].append(self.learner.n_iters)\n",
    "\n",
    "    def before_step(self):\n",
    "        if not self.grad: return\n",
    "        if self.every is not None and self.learner.n_iters % self.every == 0:\n",
    "            grad_stats = []\n",
    "            for m in self.layers:\n",
    "                m_stats = []\n",
    "                for n,p in m._parameters.items():\n",
    "                    if p is not None:\n",
    "                        # params name, mean, max\n",
    "                        m_stats.append([n, p.grad.abs().mean().item(), p.grad.abs().max().item()])\n",
    "                grad_stats.append(m_stats)\n",
    "            self.stats['grad'].append(grad_stats)\n",
    "                        \n",
    "    def after_batch(self):\n",
    "        if self.every is None: return\n",
    "        if self.learner.training and self.learner.n_iters % self.every == 0:\n",
    "            self.stats['act'].append(self.hooks.stored)\n",
    "            self._remove_hooks()\n",
    "\n",
    "    def plot_layer(self, idx, axs=None, figsize=(11,3)):\n",
    "        if not hasattr(self, 'stats'): return\n",
    "        assert idx < len(self.names), f\"index {idx} out of range {len(self.names)-1}.\"\n",
    "        if axs is None:\n",
    "            if self.grad:\n",
    "                fig,axs = plt.subplots(1,4,figsize=figsize)\n",
    "            else:\n",
    "                fig,axs = plt.subplots(1,3,figsize=figsize)\n",
    "        if axs.ndim > 1: axs = axs.flatten()\n",
    "        xs = self.stats['iter']\n",
    "        # Layer activation stats\n",
    "        lacts = [o[idx] for o in self.stats['act']]\n",
    "        lacts = [[o[n] for o in lacts] for n in ['mean', 'std', 'near_zero']]\n",
    "        for i,title in enumerate(['mean', 'std', 'near zero(%)']):\n",
    "            axs[i].plot(xs, lacts[i], '-', c='C1')\n",
    "            axs[i].set_xlabel('iteration')\n",
    "            axs[i].set_title(title)\n",
    "        axs[2].set_ylim(-0.05,1.05)\n",
    "        # Layer gradient stats\n",
    "        if self.grad:\n",
    "            lgrads = [o[idx] for o in self.stats['grad']]\n",
    "            pnames = [o[0] for o in lgrads[0]]\n",
    "            lgrads = np.vstack([[ooi for oo in o for ooi in oo[1:]] for o in lgrads])\n",
    "            colors = plt.get_cmap('tab20')(np.linspace(0,1,len(pnames)))\n",
    "            for i,n in enumerate(pnames):\n",
    "                axs[-1].plot(xs, lgrads[:,i*2], '-', c=colors[i], label=n+'_mean')\n",
    "                axs[-1].plot(xs, lgrads[:,i*2+1], '--', c=colors[i], label=n+'_max')\n",
    "                axs[-1].fill_between(xs, lgrads[:,i*2], lgrads[:,i*2+1], color=colors[i], alpha=0.3)\n",
    "            axs[-1].set_xlabel('iteration')\n",
    "            axs[-1].set_title('gradient')\n",
    "            axs[-1].legend(loc=1, prop={'size': 9})\n",
    "        # Figure title\n",
    "        try:\n",
    "            fig.suptitle(self.names[idx])\n",
    "            fig.tight_layout()\n",
    "        except:\n",
    "            pass\n",
    "    \n",
    "    def hook_fn(self, m, i, o):\n",
    "        if isinstance(o, tuple): return self.hook_multi_ouput(o)\n",
    "        o = o.float()\n",
    "        res = {'mean': o.mean().item(), 'std': o.std().item(),\n",
    "               'near_zero': (o.abs()<=0.01).long().sum().item()/o.numel()}\n",
    "        return res\n",
    "\n",
    "    def hook_multi_ouput(self,o_tuple):\n",
    "        \"For outputs of RNN which are [nested] tuples of tensors\"\n",
    "        res = []\n",
    "        for o in self._flatten_tuple(o_tuple):\n",
    "            if not isinstance(o, torch.Tensor): continue\n",
    "            res.append(self.hook_fn(None, None, o))\n",
    "        return res\n",
    "\n",
    "    def _flatten_tuple(self, o_tuple):\n",
    "        \"Recursively flatten a [nested] tuple\"\n",
    "        res = []\n",
    "        for it in o_tuple:\n",
    "            if isinstance(it, tuple): res += self._flatten_tuple(it)\n",
    "            else: res += [it]\n",
    "        return tuple(res)\n",
    "    \n",
    "    def _register_hooks(self): self.hooks = Hooks(self.layers, self.hook_fn)\n",
    "    def _remove_hooks(self):\n",
    "        if getattr(self, 'hooks', None): self.hooks.remove()\n",
    "        "
   ]
  },
  {
   "cell_type": "code",
   "execution_count": null,
   "id": "9a79f6f0-ca94-4a43-94f4-40161ebd3872",
   "metadata": {},
   "outputs": [],
   "source": [
    "tst_model = mk_tst_model()\n",
    "default_init(tst_model)"
   ]
  },
  {
   "cell_type": "code",
   "execution_count": null,
   "id": "0ad4e916-7781-4168-a0bd-8353b0dbc7d1",
   "metadata": {},
   "outputs": [],
   "source": [
    "opt = optim.SGD(tst_model.parameters(), 1e-3)\n",
    "lstats = StatsCB(grad=True)\n",
    "learn = Learner(tst_model, dls, opt=opt, loss_func=crit, cbs=[acc, lstats])"
   ]
  },
  {
   "cell_type": "code",
   "execution_count": null,
   "id": "6dc269e0-8b53-46f6-8936-37479add6fcd",
   "metadata": {},
   "outputs": [
    {
     "data": {
      "application/vnd.jupyter.widget-view+json": {
       "model_id": "256295775dac421bb04931aeb14fa30a",
       "version_major": 2,
       "version_minor": 0
      },
      "text/plain": [
       "Epochs:   0%|          | 0/5 [00:00<?, ?it/s]"
      ]
     },
     "metadata": {},
     "output_type": "display_data"
    },
    {
     "data": {
      "text/html": [
       "<div>\n",
       "<style scoped>\n",
       "    .dataframe tbody tr th:only-of-type {\n",
       "        vertical-align: middle;\n",
       "    }\n",
       "\n",
       "    .dataframe tbody tr th {\n",
       "        vertical-align: top;\n",
       "    }\n",
       "\n",
       "    .dataframe thead th {\n",
       "        text-align: right;\n",
       "    }\n",
       "</style>\n",
       "<table border=\"1\" class=\"dataframe\">\n",
       "  <thead>\n",
       "    <tr style=\"text-align: right;\">\n",
       "      <th></th>\n",
       "      <th>train_loss</th>\n",
       "      <th>test_loss</th>\n",
       "      <th>acc</th>\n",
       "    </tr>\n",
       "  </thead>\n",
       "  <tbody>\n",
       "    <tr>\n",
       "      <th>0</th>\n",
       "      <td>13.820824</td>\n",
       "      <td>4.479413</td>\n",
       "      <td>0.188</td>\n",
       "    </tr>\n",
       "    <tr>\n",
       "      <th>1</th>\n",
       "      <td>3.331656</td>\n",
       "      <td>3.248346</td>\n",
       "      <td>0.224</td>\n",
       "    </tr>\n",
       "    <tr>\n",
       "      <th>2</th>\n",
       "      <td>2.535739</td>\n",
       "      <td>2.850029</td>\n",
       "      <td>0.266</td>\n",
       "    </tr>\n",
       "    <tr>\n",
       "      <th>3</th>\n",
       "      <td>2.195015</td>\n",
       "      <td>2.629070</td>\n",
       "      <td>0.282</td>\n",
       "    </tr>\n",
       "    <tr>\n",
       "      <th>4</th>\n",
       "      <td>1.948858</td>\n",
       "      <td>2.474607</td>\n",
       "      <td>0.318</td>\n",
       "    </tr>\n",
       "  </tbody>\n",
       "</table>\n",
       "</div>"
      ],
      "text/plain": [
       "   train_loss  test_loss    acc\n",
       "0   13.820824   4.479413  0.188\n",
       "1    3.331656   3.248346  0.224\n",
       "2    2.535739   2.850029  0.266\n",
       "3    2.195015   2.629070  0.282\n",
       "4    1.948858   2.474607  0.318"
      ]
     },
     "metadata": {},
     "output_type": "display_data"
    },
    {
     "data": {
      "application/vnd.jupyter.widget-view+json": {
       "model_id": "",
       "version_major": 2,
       "version_minor": 0
      },
      "text/plain": [
       "Train:   0%|          | 0/8 [00:00<?, ?it/s]"
      ]
     },
     "metadata": {},
     "output_type": "display_data"
    },
    {
     "data": {
      "application/vnd.jupyter.widget-view+json": {
       "model_id": "",
       "version_major": 2,
       "version_minor": 0
      },
      "text/plain": [
       "Test:   0%|          | 0/8 [00:00<?, ?it/s]"
      ]
     },
     "metadata": {},
     "output_type": "display_data"
    },
    {
     "data": {
      "application/vnd.jupyter.widget-view+json": {
       "model_id": "",
       "version_major": 2,
       "version_minor": 0
      },
      "text/plain": [
       "Train:   0%|          | 0/8 [00:00<?, ?it/s]"
      ]
     },
     "metadata": {},
     "output_type": "display_data"
    },
    {
     "data": {
      "application/vnd.jupyter.widget-view+json": {
       "model_id": "",
       "version_major": 2,
       "version_minor": 0
      },
      "text/plain": [
       "Test:   0%|          | 0/8 [00:00<?, ?it/s]"
      ]
     },
     "metadata": {},
     "output_type": "display_data"
    },
    {
     "data": {
      "application/vnd.jupyter.widget-view+json": {
       "model_id": "",
       "version_major": 2,
       "version_minor": 0
      },
      "text/plain": [
       "Train:   0%|          | 0/8 [00:00<?, ?it/s]"
      ]
     },
     "metadata": {},
     "output_type": "display_data"
    },
    {
     "data": {
      "application/vnd.jupyter.widget-view+json": {
       "model_id": "",
       "version_major": 2,
       "version_minor": 0
      },
      "text/plain": [
       "Test:   0%|          | 0/8 [00:00<?, ?it/s]"
      ]
     },
     "metadata": {},
     "output_type": "display_data"
    },
    {
     "data": {
      "application/vnd.jupyter.widget-view+json": {
       "model_id": "",
       "version_major": 2,
       "version_minor": 0
      },
      "text/plain": [
       "Train:   0%|          | 0/8 [00:00<?, ?it/s]"
      ]
     },
     "metadata": {},
     "output_type": "display_data"
    },
    {
     "data": {
      "application/vnd.jupyter.widget-view+json": {
       "model_id": "",
       "version_major": 2,
       "version_minor": 0
      },
      "text/plain": [
       "Test:   0%|          | 0/8 [00:00<?, ?it/s]"
      ]
     },
     "metadata": {},
     "output_type": "display_data"
    },
    {
     "data": {
      "application/vnd.jupyter.widget-view+json": {
       "model_id": "",
       "version_major": 2,
       "version_minor": 0
      },
      "text/plain": [
       "Train:   0%|          | 0/8 [00:00<?, ?it/s]"
      ]
     },
     "metadata": {},
     "output_type": "display_data"
    },
    {
     "data": {
      "application/vnd.jupyter.widget-view+json": {
       "model_id": "",
       "version_major": 2,
       "version_minor": 0
      },
      "text/plain": [
       "Test:   0%|          | 0/8 [00:00<?, ?it/s]"
      ]
     },
     "metadata": {},
     "output_type": "display_data"
    }
   ],
   "source": [
    "learn.fit(5)"
   ]
  },
  {
   "cell_type": "code",
   "execution_count": null,
   "id": "d6a784ac-2d26-430e-b914-711755b050dc",
   "metadata": {},
   "outputs": [
    {
     "data": {
      "image/png": "[encoded data removed]",
      "text/plain": [
       "<Figure size 1100x300 with 4 Axes>"
      ]
     },
     "metadata": {},
     "output_type": "display_data"
    }
   ],
   "source": [
    "lstats.plot_layer(-1)"
   ]
  },
  {
   "cell_type": "code",
   "execution_count": null,
   "id": "02ed0019-bbe9-4b0d-a964-9cce2a71c1ed",
   "metadata": {},
   "outputs": [],
   "source": []
  },
  {
   "cell_type": "code",
   "execution_count": null,
   "id": "0de25295-6ac6-4da8-8bd5-c40f6ac2e7e9",
   "metadata": {},
   "outputs": [],
   "source": []
  },
  {
   "cell_type": "code",
   "execution_count": null,
   "id": "eacf70cf-e455-4a87-aede-bcaa164aa1fa",
   "metadata": {},
   "outputs": [],
   "source": [
    "#| hide\n",
    "import nbdev; nbdev.nbdev_export()"
   ]
  }
 ],
 "metadata": {
  "kernelspec": {
   "display_name": "python3",
   "language": "python",
   "name": "python3"
  }
 },
 "nbformat": 4,
 "nbformat_minor": 5
}
