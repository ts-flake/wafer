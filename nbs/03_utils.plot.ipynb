{
 "cells": [
  {
   "cell_type": "markdown",
   "id": "9a00f6c5-2498-421c-b55a-2d8aba4738bf",
   "metadata": {},
   "source": [
    "# Plot unitls\n",
    "> Utils functions for plotting and styling graphs for papers."
   ]
  },
  {
   "cell_type": "code",
   "execution_count": null,
   "id": "be8bee49-56aa-4328-87ba-11765d00f6de",
   "metadata": {},
   "outputs": [],
   "source": [
    "#| default_exp utils.plot"
   ]
  },
  {
   "cell_type": "code",
   "execution_count": null,
   "id": "2cea5daf-51d3-4fe7-884d-b489cdb3bc9f",
   "metadata": {},
   "outputs": [],
   "source": [
    "#| hide\n",
    "from nbdev.showdoc import *"
   ]
  },
  {
   "cell_type": "code",
   "execution_count": null,
   "id": "900d2f24-005b-4da8-9c1a-1b836b15b33a",
   "metadata": {},
   "outputs": [],
   "source": [
    "#| export\n",
    "from fastai.basics import *\n",
    "from fastai.test_utils import *"
   ]
  },
  {
   "cell_type": "code",
   "execution_count": null,
   "id": "260c13a3-3503-4dd4-8dd1-424943f5a990",
   "metadata": {},
   "outputs": [],
   "source": [
    "#| export\n",
    "def func_show(f: callable, ax: plt.Axes=None, bounds: tuple[float]=(-2,2), title: str=\"\"):\n",
    "    \"Draw 1d function `f`.\"\n",
    "    if ax is None: ax = plt.subplots(figsize=(3,2))[1]\n",
    "    xs = np.linspace(*bounds, 100)\n",
    "    ax.plot(xs, f(xs))\n",
    "    ax.set_xlabel('x');ax.set_ylabel('y');ax.set_title(title)"
   ]
  },
  {
   "cell_type": "code",
   "execution_count": null,
   "id": "3b7636fc-51f2-4f5d-81ca-46ca0c553135",
   "metadata": {},
   "outputs": [
    {
     "data": {
      "image/png": "[encoded data removed]",
      "text/plain": [
       "<Figure size 300x200 with 1 Axes>"
      ]
     },
     "metadata": {},
     "output_type": "display_data"
    }
   ],
   "source": [
    "func_show(np.tanh, title=r'$tanh$')"
   ]
  },
  {
   "cell_type": "code",
   "execution_count": null,
   "id": "4ce46a7f-18b2-4b7a-bd59-82957ad4ae59",
   "metadata": {},
   "outputs": [],
   "source": [
    "#| export\n",
    "fig = plt.gcf(); _default_dpi = fig.dpi; plt.close(fig)\n",
    "\n",
    "def figsz(sz: tuple[float], unit: str=\"cm\") -> tuple[float]:\n",
    "    \"Converts the `sz` (width, height) in `unit` to inches.\"\n",
    "    _cm = 1/2.54; _pixel = 1/_default_dpi\n",
    "    w,h = sz\n",
    "    if unit == \"cm\": return (w*_cm, h*_cm)\n",
    "    elif unit == \"pixel\": return (w*_pixel, h*_pixel)\n",
    "    else: raise ValueError(f'unit {unit} is invalid.')"
   ]
  },
  {
   "cell_type": "code",
   "execution_count": null,
   "id": "beb4c0ee-5509-468f-9429-54d3e7cc69f0",
   "metadata": {},
   "outputs": [],
   "source": [
    "test_eq(figsz((4,3),'pixel'), (4/_default_dpi, 3/_default_dpi))\n",
    "test_eq(figsz((4,3),'cm'), (4/2.54, 3/2.54))"
   ]
  },
  {
   "cell_type": "code",
   "execution_count": null,
   "id": "2ddcc2c8-4e53-4b97-9297-9e39f4d81147",
   "metadata": {},
   "outputs": [],
   "source": []
  },
  {
   "cell_type": "code",
   "execution_count": null,
   "id": "3b925162-b267-4c47-9f7c-5401d187cd0e",
   "metadata": {},
   "outputs": [],
   "source": []
  }
 ],
 "metadata": {
  "kernelspec": {
   "display_name": "python3",
   "language": "python",
   "name": "python3"
  }
 },
 "nbformat": 4,
 "nbformat_minor": 5
}
